{
 "cells": [
  {
   "cell_type": "code",
   "execution_count": 1,
   "id": "9637321a",
   "metadata": {},
   "outputs": [
    {
     "name": "stdout",
     "output_type": "stream",
     "text": [
      "janhwee pandey\n"
     ]
    }
   ],
   "source": [
    "def info(name,lname):\n",
    "    print(name,lname)\n",
    "#info(\"janhwee\",\"pandey\")\n",
    "info(lname=\"pandey\",name=\"janhwee\")\n",
    "    "
   ]
  },
  {
   "cell_type": "code",
   "execution_count": 2,
   "id": "6280321a",
   "metadata": {},
   "outputs": [
    {
     "name": "stdout",
     "output_type": "stream",
     "text": [
      "his last name is Refsnes\n"
     ]
    }
   ],
   "source": [
    "def my_function(**kid):\n",
    "    print(\"his last name is \"+kid[\"lname\"])\n",
    "my_function(fname=\"Tobics\",lname=\"Refsnes\")    "
   ]
  },
  {
   "cell_type": "code",
   "execution_count": 3,
   "id": "d34dc3f9",
   "metadata": {},
   "outputs": [
    {
     "ename": "SyntaxError",
     "evalue": "invalid syntax (3126525681.py, line 5)",
     "output_type": "error",
     "traceback": [
      "\u001b[1;36m  Cell \u001b[1;32mIn[3], line 5\u001b[1;36m\u001b[0m\n\u001b[1;33m    except valueError\u001b[0m\n\u001b[1;37m    ^\u001b[0m\n\u001b[1;31mSyntaxError\u001b[0m\u001b[1;31m:\u001b[0m invalid syntax\n"
     ]
    }
   ],
   "source": [
    "while True:\n",
    "    try:\n",
    "        x= int(input(\"Enter a Integer\"))\n",
    "        break\n",
    "        except valueError"
   ]
  },
  {
   "cell_type": "code",
   "execution_count": null,
   "id": "0eeaed3d",
   "metadata": {},
   "outputs": [],
   "source": []
  }
 ],
 "metadata": {
  "kernelspec": {
   "display_name": "Python 3 (ipykernel)",
   "language": "python",
   "name": "python3"
  },
  "language_info": {
   "codemirror_mode": {
    "name": "ipython",
    "version": 3
   },
   "file_extension": ".py",
   "mimetype": "text/x-python",
   "name": "python",
   "nbconvert_exporter": "python",
   "pygments_lexer": "ipython3",
   "version": "3.11.5"
  }
 },
 "nbformat": 4,
 "nbformat_minor": 5
}
