{
 "cells": [
  {
   "cell_type": "code",
   "execution_count": 1,
   "id": "9200b207",
   "metadata": {},
   "outputs": [],
   "source": [
    "a:str= \"janhwee\"\n",
    "    "
   ]
  },
  {
   "cell_type": "code",
   "execution_count": 3,
   "id": "e56ecde1",
   "metadata": {},
   "outputs": [],
   "source": [
    "a=1"
   ]
  },
  {
   "cell_type": "code",
   "execution_count": 4,
   "id": "a13285d9",
   "metadata": {},
   "outputs": [
    {
     "data": {
      "text/plain": [
       "int"
      ]
     },
     "execution_count": 4,
     "metadata": {},
     "output_type": "execute_result"
    }
   ],
   "source": [
    "type(a)"
   ]
  },
  {
   "cell_type": "code",
   "execution_count": 5,
   "id": "5c5833e3",
   "metadata": {},
   "outputs": [],
   "source": [
    "multistr=\"\"\"\"this is multiline string \n",
    "hello\n",
    "innogeeks \"\"\"\n"
   ]
  },
  {
   "cell_type": "code",
   "execution_count": 7,
   "id": "aff1de1d",
   "metadata": {},
   "outputs": [
    {
     "name": "stdout",
     "output_type": "stream",
     "text": [
      "\"this is multiline string \n",
      "hello\n",
      "innogeeks \n"
     ]
    }
   ],
   "source": [
    "print(multistr)"
   ]
  },
  {
   "cell_type": "code",
   "execution_count": 8,
   "id": "fc24e0a8",
   "metadata": {},
   "outputs": [
    {
     "data": {
      "text/plain": [
       "'\"this is multiline string \\nhello\\ninnogeeks '"
      ]
     },
     "execution_count": 8,
     "metadata": {},
     "output_type": "execute_result"
    }
   ],
   "source": [
    "multistr"
   ]
  },
  {
   "cell_type": "code",
   "execution_count": 9,
   "id": "f9bcea3e",
   "metadata": {},
   "outputs": [],
   "source": [
    "x=\"\"\"\"\n",
    "a\n",
    "b\n",
    "c\"\"\"\n"
   ]
  },
  {
   "cell_type": "code",
   "execution_count": 10,
   "id": "9deba5e4",
   "metadata": {},
   "outputs": [
    {
     "data": {
      "text/plain": [
       "'\"\\na\\nb\\nc'"
      ]
     },
     "execution_count": 10,
     "metadata": {},
     "output_type": "execute_result"
    }
   ],
   "source": [
    "x"
   ]
  },
  {
   "cell_type": "code",
   "execution_count": 11,
   "id": "ea66e98a",
   "metadata": {},
   "outputs": [
    {
     "name": "stdout",
     "output_type": "stream",
     "text": [
      "\"\n",
      "a\n",
      "b\n",
      "c\n"
     ]
    }
   ],
   "source": [
    "print(x)"
   ]
  },
  {
   "cell_type": "code",
   "execution_count": 13,
   "id": "c6096128",
   "metadata": {},
   "outputs": [],
   "source": [
    "string = \"innogeeks\" #01234567# arrays"
   ]
  },
  {
   "cell_type": "code",
   "execution_count": 14,
   "id": "9c7fd2cc",
   "metadata": {},
   "outputs": [
    {
     "name": "stdout",
     "output_type": "stream",
     "text": [
      "i\n"
     ]
    }
   ],
   "source": [
    "print(string[0])"
   ]
  },
  {
   "cell_type": "code",
   "execution_count": 15,
   "id": "4e87df39",
   "metadata": {},
   "outputs": [
    {
     "name": "stdout",
     "output_type": "stream",
     "text": [
      "o\n"
     ]
    }
   ],
   "source": [
    "print(string[3])"
   ]
  },
  {
   "cell_type": "code",
   "execution_count": 22,
   "id": "7f6723e5",
   "metadata": {},
   "outputs": [],
   "source": [
    "#slicing\n",
    "substring= string[0:6]\n"
   ]
  },
  {
   "cell_type": "code",
   "execution_count": 23,
   "id": "c059afe8",
   "metadata": {},
   "outputs": [
    {
     "data": {
      "text/plain": [
       "'innoge'"
      ]
     },
     "execution_count": 23,
     "metadata": {},
     "output_type": "execute_result"
    }
   ],
   "source": [
    "substring"
   ]
  },
  {
   "cell_type": "code",
   "execution_count": 24,
   "id": "d3aa0d96",
   "metadata": {},
   "outputs": [
    {
     "name": "stdout",
     "output_type": "stream",
     "text": [
      "innoge\n"
     ]
    }
   ],
   "source": [
    "print(substring)"
   ]
  },
  {
   "cell_type": "code",
   "execution_count": null,
   "id": "ad4fdacf",
   "metadata": {},
   "outputs": [],
   "source": []
  },
  {
   "cell_type": "code",
   "execution_count": null,
   "id": "4785ea21",
   "metadata": {},
   "outputs": [],
   "source": []
  }
 ],
 "metadata": {
  "kernelspec": {
   "display_name": "Python 3 (ipykernel)",
   "language": "python",
   "name": "python3"
  },
  "language_info": {
   "codemirror_mode": {
    "name": "ipython",
    "version": 3
   },
   "file_extension": ".py",
   "mimetype": "text/x-python",
   "name": "python",
   "nbconvert_exporter": "python",
   "pygments_lexer": "ipython3",
   "version": "3.11.5"
  }
 },
 "nbformat": 4,
 "nbformat_minor": 5
}
