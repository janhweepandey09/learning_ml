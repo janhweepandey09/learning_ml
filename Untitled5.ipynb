{
 "cells": [
  {
   "cell_type": "code",
   "execution_count": 1,
   "id": "d4a82e6e",
   "metadata": {},
   "outputs": [],
   "source": [
    "#numpy (np)\n",
    "#creating array \n"
   ]
  },
  {
   "cell_type": "code",
   "execution_count": 2,
   "id": "7ef32c2f",
   "metadata": {},
   "outputs": [
    {
     "name": "stdout",
     "output_type": "stream",
     "text": [
      "[1 2 3]\n"
     ]
    },
    {
     "data": {
      "text/plain": [
       "numpy.ndarray"
      ]
     },
     "execution_count": 2,
     "metadata": {},
     "output_type": "execute_result"
    }
   ],
   "source": [
    "import numpy as np\n",
    "arr=np.array([1,2,3])\n",
    "print(arr)\n",
    "type(arr)"
   ]
  },
  {
   "cell_type": "code",
   "execution_count": 3,
   "id": "a523c33f",
   "metadata": {},
   "outputs": [
    {
     "data": {
      "text/plain": [
       "array([[1., 1.],\n",
       "       [1., 1.],\n",
       "       [1., 1.]])"
      ]
     },
     "execution_count": 3,
     "metadata": {},
     "output_type": "execute_result"
    }
   ],
   "source": [
    "zeros_arr=np.zeros((2,3)) #2*3 array of zeros \n",
    "ones_arr=np.ones((3,2))\n",
    "ones_arr #zeros _arr\n"
   ]
  },
  {
   "cell_type": "code",
   "execution_count": 4,
   "id": "58ae6975",
   "metadata": {},
   "outputs": [
    {
     "data": {
      "text/plain": [
       "array([0, 2, 4, 6, 8])"
      ]
     },
     "execution_count": 4,
     "metadata": {},
     "output_type": "execute_result"
    }
   ],
   "source": [
    "arange_arr=np.arange(0,10,2)\n",
    "arange_arr\n"
   ]
  },
  {
   "cell_type": "code",
   "execution_count": 5,
   "id": "675ebed3",
   "metadata": {},
   "outputs": [
    {
     "data": {
      "text/plain": [
       "array([0. , 0.4, 0.8, 1.2, 1.6, 2. ])"
      ]
     },
     "execution_count": 5,
     "metadata": {},
     "output_type": "execute_result"
    }
   ],
   "source": [
    "arange_arr=np.arange(0,10,2)\n",
    "linspace_arr=np.linspace(0, 2,6)\n",
    "\n",
    "linspace_arr"
   ]
  },
  {
   "cell_type": "code",
   "execution_count": 6,
   "id": "4db0aa91",
   "metadata": {},
   "outputs": [
    {
     "data": {
      "text/plain": [
       "array([[3, 0, 3],\n",
       "       [1, 1, 2]])"
      ]
     },
     "execution_count": 6,
     "metadata": {},
     "output_type": "execute_result"
    }
   ],
   "source": [
    "\n",
    "random_arr=np.random.randint(low=4,size=(2,3))\n",
    "\n",
    "\n",
    "random_arr\n"
   ]
  },
  {
   "cell_type": "code",
   "execution_count": 7,
   "id": "1b330bbd",
   "metadata": {},
   "outputs": [
    {
     "name": "stdout",
     "output_type": "stream",
     "text": [
      "3\n"
     ]
    },
    {
     "data": {
      "text/plain": [
       "2"
      ]
     },
     "execution_count": 7,
     "metadata": {},
     "output_type": "execute_result"
    }
   ],
   "source": [
    "# array indexing and slicing \n",
    "arr=np.array([1,2,3])\n",
    "print(arr[2])\n",
    "arr[1]"
   ]
  },
  {
   "cell_type": "code",
   "execution_count": 8,
   "id": "e1fb488f",
   "metadata": {},
   "outputs": [
    {
     "data": {
      "text/plain": [
       "array([[2.81789562, 1.48071663, 7.52672129, 2.07197639, 9.85298657],\n",
       "       [5.73409887, 8.36254963, 9.07030718, 4.48270707, 2.23434718],\n",
       "       [8.54356697, 9.84728538, 5.03296561, 9.55338116, 5.84255287],\n",
       "       [1.02779843, 4.56779552, 5.4771326 , 9.60955184, 8.34895992]])"
      ]
     },
     "execution_count": 8,
     "metadata": {},
     "output_type": "execute_result"
    }
   ],
   "source": [
    "random_arr=np.random.rand(4,5)*9+1\n",
    "\n",
    "random_arr"
   ]
  },
  {
   "cell_type": "code",
   "execution_count": 9,
   "id": "73468e69",
   "metadata": {},
   "outputs": [
    {
     "name": "stdout",
     "output_type": "stream",
     "text": [
      "5\n"
     ]
    },
    {
     "data": {
      "text/plain": [
       "array([ 2, 10,  4,  5])"
      ]
     },
     "execution_count": 9,
     "metadata": {},
     "output_type": "execute_result"
    }
   ],
   "source": [
    "arr=np.array([2,3,4,5])\n",
    "print(arr[3])\n",
    "arr[1]=10\n",
    "arr\n"
   ]
  },
  {
   "cell_type": "code",
   "execution_count": 14,
   "id": "15687c46",
   "metadata": {},
   "outputs": [
    {
     "name": "stdout",
     "output_type": "stream",
     "text": [
      "[[[ 1  2]\n",
      "  [ 3  4]\n",
      "  [ 5  6]]\n",
      "\n",
      " [[ 7  8]\n",
      "  [ 9 10]\n",
      "  [11 12]]]\n"
     ]
    }
   ],
   "source": [
    "arr=np.array([1,2,3,4,5,6,7,8,9,10,11,12])\n",
    "newarr=arr.reshape(2,3,2)\n",
    "\n",
    "print(newarr)"
   ]
  },
  {
   "cell_type": "code",
   "execution_count": null,
   "id": "336a9930",
   "metadata": {},
   "outputs": [],
   "source": []
  }
 ],
 "metadata": {
  "kernelspec": {
   "display_name": "Python 3 (ipykernel)",
   "language": "python",
   "name": "python3"
  },
  "language_info": {
   "codemirror_mode": {
    "name": "ipython",
    "version": 3
   },
   "file_extension": ".py",
   "mimetype": "text/x-python",
   "name": "python",
   "nbconvert_exporter": "python",
   "pygments_lexer": "ipython3",
   "version": "3.11.5"
  }
 },
 "nbformat": 4,
 "nbformat_minor": 5
}
