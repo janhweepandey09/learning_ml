{
 "cells": [
  {
   "cell_type": "code",
   "execution_count": 8,
   "id": "589766c3",
   "metadata": {},
   "outputs": [
    {
     "name": "stdout",
     "output_type": "stream",
     "text": [
      "enter a first number :77\n",
      " enter a second number :88\n",
      "enter a second number :55\n",
      "b is greatest\n"
     ]
    }
   ],
   "source": [
    "a=input(\"enter a first number :\")\n",
    "b=input(\" enter a second number :\")\n",
    "c=input(\"enter a second number :\")\n",
    "if a>b and a>c:\n",
    "    print(\"a is greatest\")\n",
    "if b>c and b>a:\n",
    "    print(\"b is greatest\")\n",
    "if c>a and c>b:\n",
    "    print(\"c is greatest\")"
   ]
  },
  {
   "cell_type": "code",
   "execution_count": 10,
   "id": "db991904",
   "metadata": {},
   "outputs": [
    {
     "name": "stdout",
     "output_type": "stream",
     "text": [
      "enter a number :7\n",
      " prime number\n"
     ]
    }
   ],
   "source": [
    "n=int(input(\"enter a number :\"))\n",
    "if(n>1):\n",
    "    for x in range (2,n):\n",
    "        if(n%x==0):\n",
    "            print(\"not prime number\")\n",
    "        else:\n",
    "            print(\" prime number\")\n",
    "        break \n",
    "if(n<=1):\n",
    "    print(\"not a prime number\")\n",
    "    \n",
    "\n",
    "    \n",
    "    "
   ]
  },
  {
   "cell_type": "code",
   "execution_count": 7,
   "id": "12e2f26d",
   "metadata": {},
   "outputs": [
    {
     "name": "stdout",
     "output_type": "stream",
     "text": [
      "enter a number : 55\n",
      " grade D\n"
     ]
    }
   ],
   "source": [
    "n=int(input(\"enter a number : \"))\n",
    "if n>=81:\n",
    "    print(\" grade A \")\n",
    "elif  n>71:\n",
    "    print(\" grade B\")\n",
    "elif n>61:\n",
    "    print(\" grade C\")\n",
    "elif n>51:\n",
    "    print(\" grade D\")\n",
    "    \n",
    "elif n>41:\n",
    "    print(\" fail \")\n",
    "    \n",
    "    "
   ]
  },
  {
   "cell_type": "code",
   "execution_count": null,
   "id": "024edada",
   "metadata": {},
   "outputs": [],
   "source": []
  },
  {
   "cell_type": "code",
   "execution_count": null,
   "id": "024b6481",
   "metadata": {},
   "outputs": [],
   "source": []
  }
 ],
 "metadata": {
  "kernelspec": {
   "display_name": "Python 3 (ipykernel)",
   "language": "python",
   "name": "python3"
  },
  "language_info": {
   "codemirror_mode": {
    "name": "ipython",
    "version": 3
   },
   "file_extension": ".py",
   "mimetype": "text/x-python",
   "name": "python",
   "nbconvert_exporter": "python",
   "pygments_lexer": "ipython3",
   "version": "3.11.5"
  }
 },
 "nbformat": 4,
 "nbformat_minor": 5
}
