{
 "cells": [
  {
   "cell_type": "code",
   "execution_count": 5,
   "id": "4df0eb84",
   "metadata": {},
   "outputs": [
    {
     "name": "stdout",
     "output_type": "stream",
     "text": [
      "enter your name :janhwee pandey\n",
      "my name is janhwee pandey\n"
     ]
    }
   ],
   "source": [
    "a=input(\"enter your name :\")\n",
    "print(\"my name is \"+a)\n"
   ]
  },
  {
   "cell_type": "markdown",
   "id": "b5222bcf",
   "metadata": {},
   "source": [
    "b= int(input(\"enter your age\"))\n",
    "print(a+\"is\"+ str(b)+\"years old\")"
   ]
  },
  {
   "cell_type": "code",
   "execution_count": 6,
   "id": "0572744d",
   "metadata": {},
   "outputs": [
    {
     "name": "stdout",
     "output_type": "stream",
     "text": [
      "enter your age18\n",
      "janhwee pandeyis18years old\n"
     ]
    }
   ],
   "source": [
    "b= int(input(\"enter your age\"))\n",
    "print(a+\"is\"+ str(b)+\"years old\")\n"
   ]
  },
  {
   "cell_type": "code",
   "execution_count": 4,
   "id": "542333b5",
   "metadata": {},
   "outputs": [
    {
     "name": "stdout",
     "output_type": "stream",
     "text": [
      "j.Pandeyis 18 years old\n"
     ]
    }
   ],
   "source": [
    "first,last=a.split()\n",
    "print(f\"{first[0]+'.' +last}is {b} years old\")"
   ]
  },
  {
   "cell_type": "code",
   "execution_count": 9,
   "id": "e1cf1fbe",
   "metadata": {},
   "outputs": [
    {
     "name": "stdout",
     "output_type": "stream",
     "text": [
      "Enter your name :        janhweee pandey\n"
     ]
    }
   ],
   "source": [
    "name=input(\"Enter your name :\")\n"
   ]
  },
  {
   "cell_type": "code",
   "execution_count": 1,
   "id": "ab4ec7dd",
   "metadata": {},
   "outputs": [
    {
     "ename": "NameError",
     "evalue": "name 'name' is not defined",
     "output_type": "error",
     "traceback": [
      "\u001b[1;31m---------------------------------------------------------------------------\u001b[0m",
      "\u001b[1;31mNameError\u001b[0m                                 Traceback (most recent call last)",
      "Cell \u001b[1;32mIn[1], line 1\u001b[0m\n\u001b[1;32m----> 1\u001b[0m \u001b[38;5;28mprint\u001b[39m(name\u001b[38;5;241m.\u001b[39mtitle()) \u001b[38;5;66;03m#title first letter upper case then lower case \u001b[39;00m\n\u001b[0;32m      2\u001b[0m \u001b[38;5;28mprint\u001b[39m(name\u001b[38;5;241m.\u001b[39mstrip())\n\u001b[0;32m      3\u001b[0m \u001b[38;5;28mprint\u001b[39m(name\u001b[38;5;241m.\u001b[39mlower())\n",
      "\u001b[1;31mNameError\u001b[0m: name 'name' is not defined"
     ]
    }
   ],
   "source": [
    "\n",
    "print(name.title()) #title first letter upper case then lower case \n",
    "print(name.strip())\n",
    "print(name.lower())\n",
    "print(name.upper())"
   ]
  },
  {
   "cell_type": "code",
   "execution_count": null,
   "id": "9858c4b4",
   "metadata": {},
   "outputs": [],
   "source": []
  }
 ],
 "metadata": {
  "kernelspec": {
   "display_name": "Python 3 (ipykernel)",
   "language": "python",
   "name": "python3"
  },
  "language_info": {
   "codemirror_mode": {
    "name": "ipython",
    "version": 3
   },
   "file_extension": ".py",
   "mimetype": "text/x-python",
   "name": "python",
   "nbconvert_exporter": "python",
   "pygments_lexer": "ipython3",
   "version": "3.11.5"
  }
 },
 "nbformat": 4,
 "nbformat_minor": 5
}
