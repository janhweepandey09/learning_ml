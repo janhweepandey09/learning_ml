{
 "cells": [
  {
   "cell_type": "code",
   "execution_count": 1,
   "id": "a298f69a",
   "metadata": {},
   "outputs": [],
   "source": [
    "a:str= \"janhwee\"\n",
    "    "
   ]
  },
  {
   "cell_type": "code",
   "execution_count": 3,
   "id": "c7e5b8a3",
   "metadata": {},
   "outputs": [],
   "source": [
    "a=1"
   ]
  },
  {
   "cell_type": "code",
   "execution_count": 4,
   "id": "049852e1",
   "metadata": {},
   "outputs": [
    {
     "data": {
      "text/plain": [
       "int"
      ]
     },
     "execution_count": 4,
     "metadata": {},
     "output_type": "execute_result"
    }
   ],
   "source": [
    "type(a)"
   ]
  },
  {
   "cell_type": "code",
   "execution_count": 5,
   "id": "17b8d110",
   "metadata": {},
   "outputs": [],
   "source": [
    "multistr=\"\"\"\"this is multiline string \n",
    "hello\n",
    "innogeeks \"\"\"\n"
   ]
  },
  {
   "cell_type": "code",
   "execution_count": 7,
   "id": "6ae62f90",
   "metadata": {},
   "outputs": [
    {
     "name": "stdout",
     "output_type": "stream",
     "text": [
      "\"this is multiline string \n",
      "hello\n",
      "innogeeks \n"
     ]
    }
   ],
   "source": [
    "print(multistr)"
   ]
  },
  {
   "cell_type": "code",
   "execution_count": 8,
   "id": "0e9816cb",
   "metadata": {},
   "outputs": [
    {
     "data": {
      "text/plain": [
       "'\"this is multiline string \\nhello\\ninnogeeks '"
      ]
     },
     "execution_count": 8,
     "metadata": {},
     "output_type": "execute_result"
    }
   ],
   "source": [
    "multistr"
   ]
  },
  {
   "cell_type": "code",
   "execution_count": 9,
   "id": "0ad21d4b",
   "metadata": {},
   "outputs": [],
   "source": [
    "x=\"\"\"\"\n",
    "a\n",
    "b\n",
    "c\"\"\"\n"
   ]
  },
  {
   "cell_type": "code",
   "execution_count": 10,
   "id": "ddb33514",
   "metadata": {},
   "outputs": [
    {
     "data": {
      "text/plain": [
       "'\"\\na\\nb\\nc'"
      ]
     },
     "execution_count": 10,
     "metadata": {},
     "output_type": "execute_result"
    }
   ],
   "source": [
    "x"
   ]
  },
  {
   "cell_type": "code",
   "execution_count": 11,
   "id": "4d96662e",
   "metadata": {},
   "outputs": [
    {
     "name": "stdout",
     "output_type": "stream",
     "text": [
      "\"\n",
      "a\n",
      "b\n",
      "c\n"
     ]
    }
   ],
   "source": [
    "print(x)"
   ]
  },
  {
   "cell_type": "code",
   "execution_count": 33,
   "id": "ad2a0a97",
   "metadata": {},
   "outputs": [],
   "source": [
    "string = \"innogeeks\" #01234567# arrays"
   ]
  },
  {
   "cell_type": "code",
   "execution_count": 34,
   "id": "5af44dde",
   "metadata": {},
   "outputs": [
    {
     "name": "stdout",
     "output_type": "stream",
     "text": [
      "i\n"
     ]
    }
   ],
   "source": [
    "print(string[0])"
   ]
  },
  {
   "cell_type": "code",
   "execution_count": 35,
   "id": "6591eb24",
   "metadata": {},
   "outputs": [
    {
     "name": "stdout",
     "output_type": "stream",
     "text": [
      "o\n"
     ]
    }
   ],
   "source": [
    "print(string[3])"
   ]
  },
  {
   "cell_type": "code",
   "execution_count": 36,
   "id": "03cd3c87",
   "metadata": {},
   "outputs": [],
   "source": [
    "#slicing\n",
    "substring= string[0:6]\n"
   ]
  },
  {
   "cell_type": "code",
   "execution_count": 37,
   "id": "ca809d93",
   "metadata": {},
   "outputs": [
    {
     "data": {
      "text/plain": [
       "'innoge'"
      ]
     },
     "execution_count": 37,
     "metadata": {},
     "output_type": "execute_result"
    }
   ],
   "source": [
    "substring"
   ]
  },
  {
   "cell_type": "code",
   "execution_count": 38,
   "id": "12b1386e",
   "metadata": {},
   "outputs": [
    {
     "name": "stdout",
     "output_type": "stream",
     "text": [
      "innoge\n"
     ]
    }
   ],
   "source": [
    "print(substring)"
   ]
  },
  {
   "cell_type": "code",
   "execution_count": 39,
   "id": "a306a9e4",
   "metadata": {},
   "outputs": [],
   "source": [
    "substring=string[0:-3]"
   ]
  },
  {
   "cell_type": "raw",
   "id": "0193a289",
   "metadata": {},
   "source": []
  },
  {
   "cell_type": "code",
   "execution_count": 40,
   "id": "8dfbddfa",
   "metadata": {},
   "outputs": [
    {
     "data": {
      "text/plain": [
       "'innoge'"
      ]
     },
     "execution_count": 40,
     "metadata": {},
     "output_type": "execute_result"
    }
   ],
   "source": [
    "substring"
   ]
  },
  {
   "cell_type": "code",
   "execution_count": 42,
   "id": "f1813cdd",
   "metadata": {},
   "outputs": [
    {
     "data": {
      "text/plain": [
       "'ing'"
      ]
     },
     "execution_count": 42,
     "metadata": {},
     "output_type": "execute_result"
    }
   ],
   "source": [
    "sub =string[0:5:2] #start :stop: step \n",
    "sub\n"
   ]
  },
  {
   "cell_type": "code",
   "execution_count": 44,
   "id": "6325e9cb",
   "metadata": {},
   "outputs": [
    {
     "data": {
      "text/plain": [
       "'innogeeks'"
      ]
     },
     "execution_count": 44,
     "metadata": {},
     "output_type": "execute_result"
    }
   ],
   "source": [
    "substring=string[::]\n",
    "substring"
   ]
  },
  {
   "cell_type": "code",
   "execution_count": 1,
   "id": "ec072d89",
   "metadata": {},
   "outputs": [
    {
     "ename": "NameError",
     "evalue": "name 'substring' is not defined",
     "output_type": "error",
     "traceback": [
      "\u001b[1;31m---------------------------------------------------------------------------\u001b[0m",
      "\u001b[1;31mNameError\u001b[0m                                 Traceback (most recent call last)",
      "Cell \u001b[1;32mIn[1], line 1\u001b[0m\n\u001b[1;32m----> 1\u001b[0m substring\u001b[38;5;241m=\u001b[39msubstring[\u001b[38;5;241m-\u001b[39m\u001b[38;5;241m2\u001b[39m:\u001b[38;5;241m-\u001b[39m\u001b[38;5;241m6\u001b[39m:\u001b[38;5;241m-\u001b[39m\u001b[38;5;241m1\u001b[39m]\n\u001b[0;32m      2\u001b[0m substring\n",
      "\u001b[1;31mNameError\u001b[0m: name 'substring' is not defined"
     ]
    }
   ],
   "source": [
    "substring=substring[-2:-6:-1]\n",
    "substring\n",
    "\n"
   ]
  },
  {
   "cell_type": "markdown",
   "id": "6668c230",
   "metadata": {},
   "source": [
    "X=ARUN Y=SHETTY\n",
    "Z A  SHEETY ??"
   ]
  },
  {
   "cell_type": "code",
   "execution_count": null,
   "id": "dd433069",
   "metadata": {},
   "outputs": [],
   "source": []
  }
 ],
 "metadata": {
  "kernelspec": {
   "display_name": "Python 3 (ipykernel)",
   "language": "python",
   "name": "python3"
  },
  "language_info": {
   "codemirror_mode": {
    "name": "ipython",
    "version": 3
   },
   "file_extension": ".py",
   "mimetype": "text/x-python",
   "name": "python",
   "nbconvert_exporter": "python",
   "pygments_lexer": "ipython3",
   "version": "3.11.5"
  }
 },
 "nbformat": 4,
 "nbformat_minor": 5
}
